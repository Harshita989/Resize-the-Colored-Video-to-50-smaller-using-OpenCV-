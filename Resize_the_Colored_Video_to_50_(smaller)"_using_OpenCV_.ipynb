{
  "nbformat": 4,
  "nbformat_minor": 0,
  "metadata": {
    "colab": {
      "provenance": [],
      "authorship_tag": "ABX9TyP/f/Uvm6pLKoetAbkmG+XL",
      "include_colab_link": true
    },
    "kernelspec": {
      "name": "python3",
      "display_name": "Python 3"
    },
    "language_info": {
      "name": "python"
    }
  },
  "cells": [
    {
      "cell_type": "markdown",
      "metadata": {
        "id": "view-in-github",
        "colab_type": "text"
      },
      "source": [
        "<a href=\"https://colab.research.google.com/github/Harshita989/Resize-the-Colored-Video-to-50-smaller-using-OpenCV-/blob/main/Resize_the_Colored_Video_to_50_(smaller)%22_using_OpenCV_.ipynb\" target=\"_parent\"><img src=\"https://colab.research.google.com/assets/colab-badge.svg\" alt=\"Open In Colab\"/></a>"
      ]
    },
    {
      "cell_type": "code",
      "execution_count": 1,
      "metadata": {
        "colab": {
          "base_uri": "https://localhost:8080/"
        },
        "id": "42tVO7qu1z3R",
        "outputId": "ed176c2b-2a56-43c9-b995-9bc96ca735a5"
      },
      "outputs": [
        {
          "output_type": "stream",
          "name": "stdout",
          "text": [
            "Video resizing complete.\n"
          ]
        }
      ],
      "source": [
        "import cv2\n",
        "\n",
        "# Open the input video\n",
        "input_video = cv2.VideoCapture(\"/content/Input_file.mp4\")\n",
        "\n",
        "# Get the video properties\n",
        "width = int(input_video.get(cv2.CAP_PROP_FRAME_WIDTH))\n",
        "height = int(input_video.get(cv2.CAP_PROP_FRAME_HEIGHT))\n",
        "fps = input_video.get(cv2.CAP_PROP_FPS)\n",
        "\n",
        "# Calculate the new dimensions (50% of the original size)\n",
        "new_width = int(width * 0.5)\n",
        "new_height = int(height * 0.5)\n",
        "\n",
        "# Create a VideoWriter object to save the resized video\n",
        "fourcc = cv2.VideoWriter_fourcc(*'mp4v')\n",
        "output_video = cv2.VideoWriter(\"/content/resized_video.mp4\", fourcc, fps, (new_width, new_height))\n",
        "\n",
        "# Process each frame of the video\n",
        "while True:\n",
        "    ret, frame = input_video.read()\n",
        "\n",
        "    if not ret:\n",
        "        break\n",
        "\n",
        "    # Resize the frame\n",
        "    resized_frame = cv2.resize(frame, (new_width, new_height), interpolation=cv2.INTER_AREA)\n",
        "\n",
        "    # Write the resized frame to the output video\n",
        "    output_video.write(resized_frame)\n",
        "\n",
        "# Release the video capture and writer objects\n",
        "input_video.release()\n",
        "output_video.release()\n",
        "\n",
        "print(\"Video resizing complete.\")"
      ]
    }
  ]
}